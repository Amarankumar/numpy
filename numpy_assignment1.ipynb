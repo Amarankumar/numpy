{
 "cells": [
  {
   "cell_type": "code",
   "execution_count": 2,
   "id": "9827a6d1",
   "metadata": {},
   "outputs": [],
   "source": [
    "import numpy as np"
   ]
  },
  {
   "cell_type": "raw",
   "id": "6a373e89",
   "metadata": {},
   "source": [
    "# 1. Create a null vector of size 10 but the fifth value which is 1.\n"
   ]
  },
  {
   "cell_type": "code",
   "execution_count": 4,
   "id": "df436972",
   "metadata": {},
   "outputs": [],
   "source": [
    "null_vector = np.zeros(10)\n",
    "null_vector[4] = 1"
   ]
  },
  {
   "cell_type": "raw",
   "id": "d17543e7",
   "metadata": {},
   "source": [
    "# 2. Create a vector with values ranging from 10 to 49.\n"
   ]
  },
  {
   "cell_type": "code",
   "execution_count": 5,
   "id": "92a3f59d",
   "metadata": {},
   "outputs": [],
   "source": [
    "vector_range_10_to_49 = np.arange(10, 50)"
   ]
  },
  {
   "cell_type": "raw",
   "id": "19854899",
   "metadata": {},
   "source": [
    "# 3. Create a 3x3 matrix with values ranging from 0 to 8."
   ]
  },
  {
   "cell_type": "code",
   "execution_count": 6,
   "id": "c8dcc482",
   "metadata": {},
   "outputs": [],
   "source": [
    "matrix_3x3 = np.arange(9).reshape(3, 3)"
   ]
  },
  {
   "cell_type": "raw",
   "id": "65608a65",
   "metadata": {},
   "source": [
    "# 4. Find indices of non-zero elements from [1,2,0,0,4,0]."
   ]
  },
  {
   "cell_type": "code",
   "execution_count": 7,
   "id": "e5cd32a8",
   "metadata": {},
   "outputs": [],
   "source": [
    "nonzero_indices = np.nonzero([1, 2, 0, 0, 4, 0])"
   ]
  },
  {
   "cell_type": "raw",
   "id": "67242d68",
   "metadata": {},
   "source": [
    "# 5. Create a 10x10 array with random values and find the minimum and maximum values."
   ]
  },
  {
   "cell_type": "code",
   "execution_count": 8,
   "id": "211d1a32",
   "metadata": {},
   "outputs": [],
   "source": [
    "random_array = np.random.random((10, 10))\n",
    "min_value = random_array.min()\n",
    "max_value = random_array.max()"
   ]
  },
  {
   "cell_type": "raw",
   "id": "58fa4036",
   "metadata": {},
   "source": [
    "# 6. Create a random vector of size 30 and find the mean value."
   ]
  },
  {
   "cell_type": "code",
   "execution_count": 9,
   "id": "06243bdc",
   "metadata": {},
   "outputs": [],
   "source": [
    "\n",
    "random_vector = np.random.random(30)\n",
    "mean_value = random_vector.mean()"
   ]
  },
  {
   "cell_type": "code",
   "execution_count": null,
   "id": "8a2740e3",
   "metadata": {},
   "outputs": [],
   "source": []
  }
 ],
 "metadata": {
  "kernelspec": {
   "display_name": "Python 3 (ipykernel)",
   "language": "python",
   "name": "python3"
  },
  "language_info": {
   "codemirror_mode": {
    "name": "ipython",
    "version": 3
   },
   "file_extension": ".py",
   "mimetype": "text/x-python",
   "name": "python",
   "nbconvert_exporter": "python",
   "pygments_lexer": "ipython3",
   "version": "3.11.5"
  }
 },
 "nbformat": 4,
 "nbformat_minor": 5
}
